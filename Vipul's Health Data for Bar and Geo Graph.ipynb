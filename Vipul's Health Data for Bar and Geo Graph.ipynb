{
 "cells": [
  {
   "cell_type": "code",
   "execution_count": 1,
   "metadata": {
    "collapsed": true
   },
   "outputs": [],
   "source": [
    "import pandas as pd\n",
    "import matplotlib as mpl\n",
    "import numpy as np\n",
    "from bokeh.plotting import figure, output_file, show"
   ]
  },
  {
   "cell_type": "code",
   "execution_count": 2,
   "metadata": {
    "collapsed": true
   },
   "outputs": [],
   "source": [
    "import bokeh.sampledata\n",
    "import logging\n",
    "from bokeh.validation.errors import BAD_COLUMN_NAME, MISSING_GLYPH, NO_SOURCE_FOR_GLYPH\n",
    "from bokeh.validation.warnings import MALFORMED_CATEGORY_LABEL"
   ]
  },
  {
   "cell_type": "code",
   "execution_count": 3,
   "metadata": {
    "collapsed": false
   },
   "outputs": [],
   "source": [
    "#import geopandas as gpd"
   ]
  },
  {
   "cell_type": "code",
   "execution_count": 4,
   "metadata": {
    "collapsed": true
   },
   "outputs": [],
   "source": [
    "pd.set_option('display.mpl_style', 'default')"
   ]
  },
  {
   "cell_type": "code",
   "execution_count": 5,
   "metadata": {
    "collapsed": false,
    "scrolled": true
   },
   "outputs": [
    {
     "name": "stdout",
     "output_type": "stream",
     "text": [
      "Using data directory: C:\\Users\\VTyagi/.bokeh\\data\n",
      "Downloading: CGM.csv (1589982 bytes)\n",
      "   1589982 [100.00%]\n",
      "Downloading: US_Counties.zip (3182088 bytes)\n",
      "   3182088 [100.00%]\n",
      "Unpacking: US_Counties.csv\n",
      "Downloading: unemployment09.csv (253301 bytes)\n",
      "    253301 [100.00%]\n",
      "Downloading: AAPL.csv (166698 bytes)\n",
      "    166698 [100.00%]\n",
      "Downloading: FB.csv (9706 bytes)\n",
      "      9706 [100.00%]\n",
      "Downloading: GOOG.csv (113894 bytes)\n",
      "    113894 [100.00%]\n",
      "Downloading: IBM.csv (165625 bytes)\n",
      "    165625 [100.00%]\n",
      "Downloading: MSFT.csv (161614 bytes)\n",
      "    161614 [100.00%]\n",
      "Downloading: WPP2012_SA_DB03_POPULATION_QUINQUENNIAL.zip (5148539 bytes)\n",
      "   5148539 [100.00%]\n",
      "Unpacking: WPP2012_SA_DB03_POPULATION_QUINQUENNIAL.csv\n",
      "Downloading: gapminder_fertility.csv (64346 bytes)\n",
      "     64346 [100.00%]\n",
      "Downloading: gapminder_population.csv (94509 bytes)\n",
      "     94509 [100.00%]\n",
      "Downloading: gapminder_life_expectancy.csv (73243 bytes)\n",
      "     73243 [100.00%]\n",
      "Downloading: gapminder_regions.csv (7781 bytes)\n",
      "      7781 [100.00%]\n"
     ]
    }
   ],
   "source": [
    "bokeh.sampledata.download()"
   ]
  },
  {
   "cell_type": "markdown",
   "metadata": {},
   "source": [
    "### Import the csv file"
   ]
  },
  {
   "cell_type": "code",
   "execution_count": 6,
   "metadata": {
    "collapsed": false
   },
   "outputs": [],
   "source": [
    "# Import the CSV file\n",
    "chgmst = pd.read_csv(\"C:\\\\Users\\\\VTyagi\\\\Google Drive\\\\@Study\\\\MSDS - Lipscomb University\\\\2. Data Struct\\\\Exercise2\\\\Inpatient_Prospective_Payment_System__IPPS__Provider_Summary_for_the_Top_100_Diagnosis-Related_Groups__DRG__-_FY2011.csv\")"
   ]
  },
  {
   "cell_type": "markdown",
   "metadata": {},
   "source": [
    "### Description of the object and columns"
   ]
  },
  {
   "cell_type": "code",
   "execution_count": 7,
   "metadata": {
    "collapsed": false
   },
   "outputs": [
    {
     "data": {
      "text/plain": [
       "Index([u'DRG Definition', u'Provider Id', u'Provider Name',\n",
       "       u'Provider Street Address', u'Provider City', u'Provider State',\n",
       "       u'Provider Zip Code', u'Hospital Referral Region Description',\n",
       "       u' Total Discharges ', u' Average Covered Charges ',\n",
       "       u' Average Total Payments ', u'Average Medicare Payments'],\n",
       "      dtype='object')"
      ]
     },
     "execution_count": 7,
     "metadata": {},
     "output_type": "execute_result"
    }
   ],
   "source": [
    "# description of the object and columns\n",
    "chgmst.columns"
   ]
  },
  {
   "cell_type": "markdown",
   "metadata": {},
   "source": [
    "### Profiling of the data in the object"
   ]
  },
  {
   "cell_type": "code",
   "execution_count": 8,
   "metadata": {
    "collapsed": false
   },
   "outputs": [
    {
     "data": {
      "text/html": [
       "<div>\n",
       "<table border=\"1\" class=\"dataframe\">\n",
       "  <thead>\n",
       "    <tr style=\"text-align: right;\">\n",
       "      <th></th>\n",
       "      <th>Provider Id</th>\n",
       "      <th>Provider Zip Code</th>\n",
       "      <th>Total Discharges</th>\n",
       "    </tr>\n",
       "  </thead>\n",
       "  <tbody>\n",
       "    <tr>\n",
       "      <th>count</th>\n",
       "      <td>163065.000000</td>\n",
       "      <td>163065.000000</td>\n",
       "      <td>163065.000000</td>\n",
       "    </tr>\n",
       "    <tr>\n",
       "      <th>mean</th>\n",
       "      <td>255569.865428</td>\n",
       "      <td>47938.121908</td>\n",
       "      <td>42.776304</td>\n",
       "    </tr>\n",
       "    <tr>\n",
       "      <th>std</th>\n",
       "      <td>151563.671767</td>\n",
       "      <td>27854.323080</td>\n",
       "      <td>51.104042</td>\n",
       "    </tr>\n",
       "    <tr>\n",
       "      <th>min</th>\n",
       "      <td>10001.000000</td>\n",
       "      <td>1040.000000</td>\n",
       "      <td>11.000000</td>\n",
       "    </tr>\n",
       "    <tr>\n",
       "      <th>25%</th>\n",
       "      <td>110092.000000</td>\n",
       "      <td>27261.000000</td>\n",
       "      <td>17.000000</td>\n",
       "    </tr>\n",
       "    <tr>\n",
       "      <th>50%</th>\n",
       "      <td>250007.000000</td>\n",
       "      <td>44309.000000</td>\n",
       "      <td>27.000000</td>\n",
       "    </tr>\n",
       "    <tr>\n",
       "      <th>75%</th>\n",
       "      <td>380075.000000</td>\n",
       "      <td>72901.000000</td>\n",
       "      <td>49.000000</td>\n",
       "    </tr>\n",
       "    <tr>\n",
       "      <th>max</th>\n",
       "      <td>670077.000000</td>\n",
       "      <td>99835.000000</td>\n",
       "      <td>3383.000000</td>\n",
       "    </tr>\n",
       "  </tbody>\n",
       "</table>\n",
       "</div>"
      ],
      "text/plain": [
       "         Provider Id  Provider Zip Code   Total Discharges \n",
       "count  163065.000000      163065.000000       163065.000000\n",
       "mean   255569.865428       47938.121908           42.776304\n",
       "std    151563.671767       27854.323080           51.104042\n",
       "min     10001.000000        1040.000000           11.000000\n",
       "25%    110092.000000       27261.000000           17.000000\n",
       "50%    250007.000000       44309.000000           27.000000\n",
       "75%    380075.000000       72901.000000           49.000000\n",
       "max    670077.000000       99835.000000         3383.000000"
      ]
     },
     "execution_count": 8,
     "metadata": {},
     "output_type": "execute_result"
    }
   ],
   "source": [
    "### Profiling of the data in the object\n",
    "chgmst.describe()"
   ]
  },
  {
   "cell_type": "markdown",
   "metadata": {},
   "source": [
    "### Removing \"$\" to convert column data type to float for meaningful analysis and print the results"
   ]
  },
  {
   "cell_type": "code",
   "execution_count": 9,
   "metadata": {
    "collapsed": false
   },
   "outputs": [],
   "source": [
    "#### removing $ to convert column data type to float for meaningful analysis\n",
    "chgmst[' Average Covered Charges '].replace({'\\$': ''}, regex=True, inplace=True)"
   ]
  },
  {
   "cell_type": "code",
   "execution_count": 10,
   "metadata": {
    "collapsed": false
   },
   "outputs": [
    {
     "data": {
      "text/plain": [
       "0         5777.24\n",
       "1         5787.57\n",
       "2         5434.95\n",
       "3         5417.56\n",
       "4         5658.33\n",
       "5         6653.80\n",
       "6         5834.74\n",
       "7         8031.12\n",
       "8         6113.38\n",
       "9         5541.05\n",
       "10        5461.57\n",
       "11        5356.28\n",
       "12        5374.65\n",
       "13        5366.23\n",
       "14        5282.93\n",
       "15        5676.55\n",
       "16        5930.11\n",
       "17        6192.54\n",
       "18        4968.00\n",
       "19        5996.00\n",
       "20        5710.31\n",
       "21        5550.90\n",
       "22        4987.26\n",
       "23        8401.95\n",
       "24        7768.90\n",
       "25        6799.85\n",
       "26        9133.00\n",
       "27        6506.50\n",
       "28        6083.42\n",
       "29        7140.85\n",
       "           ...   \n",
       "163035    4090.57\n",
       "163036    4672.87\n",
       "163037    4615.15\n",
       "163038    5992.09\n",
       "163039    3970.66\n",
       "163040    4867.17\n",
       "163041    4482.47\n",
       "163042    3778.78\n",
       "163043    7411.21\n",
       "163044    4082.00\n",
       "163045    4301.29\n",
       "163046    3884.77\n",
       "163047    4619.00\n",
       "163048    4114.00\n",
       "163049    5562.50\n",
       "163050    5720.17\n",
       "163051    4084.55\n",
       "163052    3830.10\n",
       "163053    3885.20\n",
       "163054    6258.61\n",
       "163055    4905.17\n",
       "163056    6889.33\n",
       "163057    6192.84\n",
       "163058    5975.26\n",
       "163059    3772.00\n",
       "163060    3806.86\n",
       "163061    4027.36\n",
       "163062    5704.36\n",
       "163063    7663.09\n",
       "163064    3539.75\n",
       "Name:  Average Total Payments , dtype: object"
      ]
     },
     "execution_count": 10,
     "metadata": {},
     "output_type": "execute_result"
    }
   ],
   "source": [
    "# removing $ to convert column data type to float for meaningful analysis\n",
    "chgmst[' Average Total Payments '].replace({'\\$': ''}, regex=True, inplace=True)\n",
    "chgmst[' Average Total Payments ']"
   ]
  },
  {
   "cell_type": "code",
   "execution_count": 11,
   "metadata": {
    "collapsed": true
   },
   "outputs": [],
   "source": [
    "# removing $ to convert column data type to float for meaningful analysis\n",
    "chgmst['Average Medicare Payments'].replace({'\\$': ''}, regex=True, inplace=True)"
   ]
  },
  {
   "cell_type": "markdown",
   "metadata": {},
   "source": [
    "### Converting column data type to float for meaningful analysis"
   ]
  },
  {
   "cell_type": "code",
   "execution_count": 12,
   "metadata": {
    "collapsed": false
   },
   "outputs": [
    {
     "data": {
      "text/plain": [
       "0         4763.73\n",
       "1         4976.71\n",
       "2         4453.79\n",
       "3         4129.16\n",
       "4         4851.44\n",
       "5         5374.14\n",
       "6         4761.41\n",
       "7         5858.50\n",
       "8         5228.40\n",
       "9         4386.94\n",
       "10        4493.57\n",
       "11        4408.20\n",
       "12        4186.02\n",
       "13        4376.23\n",
       "14        4383.73\n",
       "15        4509.11\n",
       "16        3972.85\n",
       "17        5179.38\n",
       "18        3898.88\n",
       "19        4962.45\n",
       "20        4471.68\n",
       "21        4219.90\n",
       "22        3944.42\n",
       "23        6413.78\n",
       "24        6951.45\n",
       "25        5764.87\n",
       "26        8008.11\n",
       "27        5379.83\n",
       "28        4903.33\n",
       "29        6133.57\n",
       "           ...   \n",
       "163035    3288.85\n",
       "163036    3829.87\n",
       "163037    3779.72\n",
       "163038    3457.86\n",
       "163039    3029.11\n",
       "163040    4031.68\n",
       "163041    3828.78\n",
       "163042    2898.50\n",
       "163043    6406.05\n",
       "163044    3429.66\n",
       "163045    3114.94\n",
       "163046    3117.31\n",
       "163047    3775.33\n",
       "163048    3346.54\n",
       "163049    4522.78\n",
       "163050    4198.72\n",
       "163051    3363.28\n",
       "163052    3123.57\n",
       "163053    3141.20\n",
       "163054    5579.38\n",
       "163055    3403.85\n",
       "163056    5673.50\n",
       "163057    3580.57\n",
       "163058    5055.06\n",
       "163059    3085.73\n",
       "163060    3071.39\n",
       "163061    2649.72\n",
       "163062    4058.36\n",
       "163063    6848.54\n",
       "163064    2887.41\n",
       "Name: Average Medicare Payments, dtype: float64"
      ]
     },
     "execution_count": 12,
     "metadata": {},
     "output_type": "execute_result"
    }
   ],
   "source": [
    "# converting column data type to float for meaningful analysis\n",
    "chgmst[' Average Covered Charges '] = chgmst[' Average Covered Charges '].astype(float)\n",
    "chgmst[' Average Total Payments '] = chgmst[' Average Total Payments '].astype(float)\n",
    "chgmst['Average Medicare Payments'] = chgmst['Average Medicare Payments'].astype(float)\n",
    "chgmst['Average Medicare Payments']"
   ]
  },
  {
   "cell_type": "markdown",
   "metadata": {},
   "source": [
    "### Data Profiling using describe function on the float data type columns"
   ]
  },
  {
   "cell_type": "code",
   "execution_count": 13,
   "metadata": {
    "collapsed": false
   },
   "outputs": [
    {
     "data": {
      "text/html": [
       "<div>\n",
       "<table border=\"1\" class=\"dataframe\">\n",
       "  <thead>\n",
       "    <tr style=\"text-align: right;\">\n",
       "      <th></th>\n",
       "      <th>Provider Id</th>\n",
       "      <th>Provider Zip Code</th>\n",
       "      <th>Total Discharges</th>\n",
       "      <th>Average Covered Charges</th>\n",
       "      <th>Average Total Payments</th>\n",
       "      <th>Average Medicare Payments</th>\n",
       "    </tr>\n",
       "  </thead>\n",
       "  <tbody>\n",
       "    <tr>\n",
       "      <th>count</th>\n",
       "      <td>163065.000000</td>\n",
       "      <td>163065.000000</td>\n",
       "      <td>163065.000000</td>\n",
       "      <td>163065.000000</td>\n",
       "      <td>163065.000000</td>\n",
       "      <td>163065.000000</td>\n",
       "    </tr>\n",
       "    <tr>\n",
       "      <th>mean</th>\n",
       "      <td>255569.865428</td>\n",
       "      <td>47938.121908</td>\n",
       "      <td>42.776304</td>\n",
       "      <td>36133.954224</td>\n",
       "      <td>9707.473804</td>\n",
       "      <td>8494.490964</td>\n",
       "    </tr>\n",
       "    <tr>\n",
       "      <th>std</th>\n",
       "      <td>151563.671767</td>\n",
       "      <td>27854.323080</td>\n",
       "      <td>51.104042</td>\n",
       "      <td>35065.365931</td>\n",
       "      <td>7664.642598</td>\n",
       "      <td>7309.467261</td>\n",
       "    </tr>\n",
       "    <tr>\n",
       "      <th>min</th>\n",
       "      <td>10001.000000</td>\n",
       "      <td>1040.000000</td>\n",
       "      <td>11.000000</td>\n",
       "      <td>2459.400000</td>\n",
       "      <td>2673.000000</td>\n",
       "      <td>1148.900000</td>\n",
       "    </tr>\n",
       "    <tr>\n",
       "      <th>25%</th>\n",
       "      <td>110092.000000</td>\n",
       "      <td>27261.000000</td>\n",
       "      <td>17.000000</td>\n",
       "      <td>15947.160000</td>\n",
       "      <td>5234.500000</td>\n",
       "      <td>4192.350000</td>\n",
       "    </tr>\n",
       "    <tr>\n",
       "      <th>50%</th>\n",
       "      <td>250007.000000</td>\n",
       "      <td>44309.000000</td>\n",
       "      <td>27.000000</td>\n",
       "      <td>25245.820000</td>\n",
       "      <td>7214.100000</td>\n",
       "      <td>6158.460000</td>\n",
       "    </tr>\n",
       "    <tr>\n",
       "      <th>75%</th>\n",
       "      <td>380075.000000</td>\n",
       "      <td>72901.000000</td>\n",
       "      <td>49.000000</td>\n",
       "      <td>43232.590000</td>\n",
       "      <td>11286.400000</td>\n",
       "      <td>10056.880000</td>\n",
       "    </tr>\n",
       "    <tr>\n",
       "      <th>max</th>\n",
       "      <td>670077.000000</td>\n",
       "      <td>99835.000000</td>\n",
       "      <td>3383.000000</td>\n",
       "      <td>929118.900000</td>\n",
       "      <td>156158.180000</td>\n",
       "      <td>154620.810000</td>\n",
       "    </tr>\n",
       "  </tbody>\n",
       "</table>\n",
       "</div>"
      ],
      "text/plain": [
       "         Provider Id  Provider Zip Code   Total Discharges   \\\n",
       "count  163065.000000      163065.000000       163065.000000   \n",
       "mean   255569.865428       47938.121908           42.776304   \n",
       "std    151563.671767       27854.323080           51.104042   \n",
       "min     10001.000000        1040.000000           11.000000   \n",
       "25%    110092.000000       27261.000000           17.000000   \n",
       "50%    250007.000000       44309.000000           27.000000   \n",
       "75%    380075.000000       72901.000000           49.000000   \n",
       "max    670077.000000       99835.000000         3383.000000   \n",
       "\n",
       "        Average Covered Charges    Average Total Payments   \\\n",
       "count              163065.000000             163065.000000   \n",
       "mean                36133.954224               9707.473804   \n",
       "std                 35065.365931               7664.642598   \n",
       "min                  2459.400000               2673.000000   \n",
       "25%                 15947.160000               5234.500000   \n",
       "50%                 25245.820000               7214.100000   \n",
       "75%                 43232.590000              11286.400000   \n",
       "max                929118.900000             156158.180000   \n",
       "\n",
       "       Average Medicare Payments  \n",
       "count              163065.000000  \n",
       "mean                 8494.490964  \n",
       "std                  7309.467261  \n",
       "min                  1148.900000  \n",
       "25%                  4192.350000  \n",
       "50%                  6158.460000  \n",
       "75%                 10056.880000  \n",
       "max                154620.810000  "
      ]
     },
     "execution_count": 13,
     "metadata": {},
     "output_type": "execute_result"
    }
   ],
   "source": [
    "# Data Profiling using describe function on the float data type columns\n",
    "chgmst.describe()"
   ]
  },
  {
   "cell_type": "markdown",
   "metadata": {
    "collapsed": true
   },
   "source": [
    "### Using stats from Data Profile fuctions, prepare data for bar charts"
   ]
  },
  {
   "cell_type": "code",
   "execution_count": 14,
   "metadata": {
    "collapsed": false
   },
   "outputs": [],
   "source": [
    "from bokeh.charts import Bar, output_file, show\n",
    "\n",
    "df_chart = chgmst.describe()/1000.00\n",
    "\n",
    "# prepare the data\n",
    "data = {\"1\":df_chart[' Average Covered Charges '], \"2\":df_chart[' Average Total Payments '], \n",
    "        \"3\":df_chart['Average Medicare Payments']}\n",
    "\n",
    "# output to static HTML file\n",
    "output_file(\"bar.html\")"
   ]
  },
  {
   "cell_type": "markdown",
   "metadata": {
    "collapsed": false
   },
   "source": [
    "### Using stats from Data Profile fuctions, prepare data for bar charts"
   ]
  },
  {
   "cell_type": "code",
   "execution_count": 15,
   "metadata": {
    "collapsed": false
   },
   "outputs": [],
   "source": [
    "# create a new line chat with a title and axis labels\n",
    "p=Bar(data, title=\"Bar example\", xlabel='Metrics', ylabel='Values (in thousands)',\n",
    "      cat=['count', 'mean', 'std', 'min', '1st Quarentile', '2nd Quarentile','3rd Quarentile', 'max'])\n",
    "        "
   ]
  },
  {
   "cell_type": "code",
   "execution_count": 16,
   "metadata": {
    "collapsed": false
   },
   "outputs": [
    {
     "name": "stderr",
     "output_type": "stream",
     "text": [
      "ERROR:C:\\Anaconda\\lib\\site-packages\\bokeh\\validation\\check.pyc:W-1003 (MALFORMED_CATEGORY_LABEL): Category labels are malformed: [field:cat1] [first_value: count:0.25] [renderer: GlyphRenderer, ViewModel:GlyphRenderer, ref _id: 8a947456-7e7b-48ab-bba8-935037b11267]\n",
      "ERROR:C:\\Anaconda\\lib\\site-packages\\bokeh\\validation\\check.pyc:W-1003 (MALFORMED_CATEGORY_LABEL): Category labels are malformed: [field:cat2] [first_value: count:0.75] [renderer: GlyphRenderer, ViewModel:GlyphRenderer, ref _id: 87055b1f-39ee-4440-b3f3-214c4c0fe279]\n",
      "ERROR:C:\\Anaconda\\lib\\site-packages\\bokeh\\validation\\check.pyc:W-1003 (MALFORMED_CATEGORY_LABEL): Category labels are malformed: [field:cat3] [first_value: count:0.5] [renderer: GlyphRenderer, ViewModel:GlyphRenderer, ref _id: 8fd39fbd-b27a-42b3-a5db-dd6e3e699438]\n"
     ]
    }
   ],
   "source": [
    "# show the results\n",
    "show(p)"
   ]
  },
  {
   "cell_type": "markdown",
   "metadata": {},
   "source": [
    "### Scaling and rounding the data"
   ]
  },
  {
   "cell_type": "code",
   "execution_count": 17,
   "metadata": {
    "collapsed": false
   },
   "outputs": [
    {
     "data": {
      "text/plain": [
       "Provider State\n",
       "AK      9\n",
       "AL    114\n",
       "AR     54\n",
       "AZ    117\n",
       "CA    882\n",
       "CO     78\n",
       "CT     63\n",
       "DC     19\n",
       "DE     11\n",
       "FL    513\n",
       "GA    154\n",
       "HI     14\n",
       "IA     42\n",
       "ID     14\n",
       "IL    285\n",
       "IN    120\n",
       "KS     52\n",
       "KY     79\n",
       "LA    100\n",
       "MA     79\n",
       "MD     45\n",
       "ME     18\n",
       "MI    131\n",
       "MN     63\n",
       "MO    127\n",
       "MS     73\n",
       "MT     11\n",
       "NC    127\n",
       "ND      9\n",
       "NE     34\n",
       "NH     22\n",
       "NJ    319\n",
       "NM     28\n",
       "NV     73\n",
       "NY    289\n",
       "OH    199\n",
       "OK     75\n",
       "OR     36\n",
       "PA    309\n",
       "RI     18\n",
       "SC    102\n",
       "SD     14\n",
       "TN    122\n",
       "TX    492\n",
       "UT     18\n",
       "VA    127\n",
       "VT      5\n",
       "WA     96\n",
       "WI     74\n",
       "WV     30\n",
       "WY      7\n",
       "Name:  Average Covered Charges , dtype: float64"
      ]
     },
     "execution_count": 17,
     "metadata": {},
     "output_type": "execute_result"
    }
   ],
   "source": [
    "df_grouped=chgmst.groupby(by=['Provider State']).sum()/1000000.0\n",
    "df2=df_grouped[' Average Covered Charges '].copy()\n",
    "df2=df2.round()\n",
    "df2\n",
    "#df_grouped.describe()"
   ]
  },
  {
   "cell_type": "markdown",
   "metadata": {},
   "source": [
    "### Preparing initial variables for geo graph"
   ]
  },
  {
   "cell_type": "code",
   "execution_count": 18,
   "metadata": {
    "collapsed": false
   },
   "outputs": [],
   "source": [
    "from bokeh.sampledata import us_states, us_counties, unemployment\n",
    "from bokeh.plotting import *\n",
    "\n",
    "us_states = us_states.data.copy()\n",
    "\n",
    "del us_states[\"HI\"]\n",
    "del us_states[\"AK\"]\n",
    "\n",
    "state_xs = [us_states[code][\"lons\"] for code in us_states]\n",
    "state_ys = [us_states[code][\"lats\"] for code in us_states]\n"
   ]
  },
  {
   "cell_type": "markdown",
   "metadata": {},
   "source": [
    "### Continue to prepare initial variables for geo graph"
   ]
  },
  {
   "cell_type": "code",
   "execution_count": 19,
   "metadata": {
    "collapsed": false
   },
   "outputs": [],
   "source": [
    "state_colors = []\n",
    "max_count = df2.max()\n",
    "avgSt_exp=[]\n",
    "\n",
    "for id in us_states:\n",
    "    if id in [\"AK\", \"HI\", \"PR\", \"GU\", \"VI\", \"MP\", \"AS\"]:\n",
    "        continue\n",
    "    try:\n",
    "        count = df2[id]\n",
    "        avgSt_exp.append(count)\n",
    "        rgb_calc = 255 - (count / max_count) * 255.0\n",
    "        state_colors.append(\"#%02x%02x%02x\" % (255, rgb_calc, rgb_calc))\n",
    "    except KeyError:\n",
    "        state_colors.append(\"black\")\n",
    "\n",
    "state_df = pd.DataFrame(us_states).transpose()\n",
    "\n",
    "source = ColumnDataSource(\n",
    "    data=dict(\n",
    "        stateList = [str(id) for id in us_states],\n",
    "        avgSt_xs = [str(np.ma.masked_invalid(x).mean()) for x in state_df['lons']],\n",
    "        avgSt_ys = [str(np.ma.masked_invalid(x).mean()) for x in state_df['lats']],\n",
    "        avgSt_exp = [\"$\"+str(int(df2[id]))+\"M\" for id in us_states],\n",
    "    )\n",
    ")\n",
    "\n",
    "#stateList, avgSt_xs, avgSt_ys, avgSt_exp\n"
   ]
  },
  {
   "cell_type": "markdown",
   "metadata": {
    "collapsed": false
   },
   "source": [
    "### Generating the geo graph"
   ]
  },
  {
   "cell_type": "code",
   "execution_count": 20,
   "metadata": {
    "collapsed": false
   },
   "outputs": [],
   "source": [
    "output_file(\"choropleth.html\", title=\"State Medical Expense\")\n",
    "\n",
    "p = figure(title=\"State Medical Expense\", toolbar_location=\"left\",\n",
    "    plot_width=1100, plot_height=700)\n",
    "\n",
    "p.patches(state_xs, state_ys, fill_color=state_colors, fill_alpha=0.7,\n",
    "    line_color=\"#884444\", line_width=2)\n",
    "#p.patches(state_xs, state_ys, fill_alpha=0.0,\n",
    "#    line_color=\"#884444\", line_width=2)\n",
    "\n",
    "text_props = {\n",
    "    \"source\":source,\n",
    "    \"angle\": 0,\n",
    "    \"color\": \"black\",\n",
    "    \"text_align\": \"center\",\n",
    "    \"text_baseline\": \"middle\"\n",
    "}\n",
    "\n",
    "p.text(x=\"avgSt_xs\", \n",
    "       y=\"avgSt_ys\", \n",
    "       text=\"avgSt_exp\",\n",
    "    text_font_style=\"bold\", text_font_size=\"9pt\", **text_props)\n",
    "\n",
    "show(p)"
   ]
  }
 ],
 "metadata": {
  "kernelspec": {
   "display_name": "Python 2",
   "language": "python",
   "name": "python2"
  },
  "language_info": {
   "codemirror_mode": {
    "name": "ipython",
    "version": 2
   },
   "file_extension": ".py",
   "mimetype": "text/x-python",
   "name": "python",
   "nbconvert_exporter": "python",
   "pygments_lexer": "ipython2",
   "version": "2.7.10"
  }
 },
 "nbformat": 4,
 "nbformat_minor": 0
}
